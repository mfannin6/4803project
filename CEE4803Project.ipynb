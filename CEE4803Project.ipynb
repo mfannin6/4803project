git remote add origin https://github.com/mfannin6/4803project.git
git push -u origin master
